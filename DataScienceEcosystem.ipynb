{
 "cells": [
  {
   "cell_type": "markdown",
   "id": "3406872f-f858-4e59-8f32-9ce03737e2b0",
   "metadata": {},
   "source": [
    "<h1>Data Science Tools and Ecosystem</h1>"
   ]
  },
  {
   "cell_type": "markdown",
   "id": "f8bab14b-3b48-484b-aa0a-c3abb5c726ac",
   "metadata": {},
   "source": [
    "<h2>Author</h2>\n",
    "Robert Madigan"
   ]
  },
  {
   "cell_type": "markdown",
   "id": "0e65b736-f50f-413d-ad49-269c498f84f4",
   "metadata": {},
   "source": [
    "In this notebook, Data Science Tools and Ecosystem are summarized."
   ]
  },
  {
   "cell_type": "markdown",
   "id": "be93715a-ffba-4afa-b5b2-9d4f942f69d8",
   "metadata": {
    "tags": []
   },
   "source": [
    "<strong>Objectives:</strong>\n",
    "<ul>\n",
    "    <li>List popular languages for Data Science</li>\n",
    "    <li>Commonly used Data Science libraries</li>\n",
    "    <li>Data Science tools</li>\n",
    "    <li>Examples of arithmetic expressions in Python</li>\n",
    "</ul>"
   ]
  },
  {
   "cell_type": "markdown",
   "id": "5bcd07c0-534a-4bfe-8a62-eb1b4d7d3ee7",
   "metadata": {},
   "source": [
    "Some of the popular languages that Data Scientists use are:\n",
    "<ol>\n",
    "    <li>R</li>\n",
    "    <li>Python</li>\n",
    "    <li>Julia</li>\n",
    "</ol>"
   ]
  },
  {
   "cell_type": "markdown",
   "id": "9c0b1014-57c6-4a1a-b406-d2796829172f",
   "metadata": {},
   "source": [
    "Some of the commonly used libraries used by Data Scientists include:\n",
    "<ol>\n",
    "    <li>ggplot (R)</li>\n",
    "    <li>seaborn (Python)</li>\n",
    "    <li>sckikit-learn (Python)</li>\n",
    "</ol>"
   ]
  },
  {
   "cell_type": "markdown",
   "id": "bdc511fb-0304-4c6a-aa7c-5cc6209abc4e",
   "metadata": {},
   "source": [
    "<table>\n",
    "    <tr>\n",
    "        <th>Data Science Tools</th>\n",
    "    </tr>\n",
    "    <tr>\n",
    "        <td>RStudio</td>\n",
    "    </tr>\n",
    "    <tr>\n",
    "        <td>Anaconda</td>\n",
    "    </tr>\n",
    "    <tr>\n",
    "        <td>Visual Studio Code</td>\n",
    "    </tr>\n",
    "</table>"
   ]
  },
  {
   "cell_type": "markdown",
   "id": "be5d9bb9-f6b6-4d01-95e6-67da56b9b203",
   "metadata": {},
   "source": [
    "Below are a few examples of evaluating arithmetic expressions in Python:\n",
    "\n",
    " 7 - 6 + 2\n",
    " \n",
    "7 - (6 + 2)\n",
    "\n",
    "5 * 62 + 1\n",
    "\n",
    "(5 + 6) * (2+1)"
   ]
  },
  {
   "cell_type": "code",
   "execution_count": 2,
   "id": "b10775fc-50d6-4fb6-858d-8943e368773c",
   "metadata": {
    "tags": []
   },
   "outputs": [
    {
     "data": {
      "text/plain": [
       "17"
      ]
     },
     "execution_count": 2,
     "metadata": {},
     "output_type": "execute_result"
    }
   ],
   "source": [
    "# This a simple arithmetic expression to mutiply then add integers\n",
    "(3*4)+5"
   ]
  },
  {
   "cell_type": "code",
   "execution_count": 3,
   "id": "2f1e2fb0-1fb1-4e1a-9882-3535d3fd735a",
   "metadata": {
    "tags": []
   },
   "outputs": [
    {
     "data": {
      "text/plain": [
       "3.3333333333333335"
      ]
     },
     "execution_count": 3,
     "metadata": {},
     "output_type": "execute_result"
    }
   ],
   "source": [
    "# This will convert 200 minutes to hours by diving by 60\n",
    "200/60"
   ]
  }
 ],
 "metadata": {
  "kernelspec": {
   "display_name": "Python",
   "language": "python",
   "name": "conda-env-python-py"
  },
  "language_info": {
   "codemirror_mode": {
    "name": "ipython",
    "version": 3
   },
   "file_extension": ".py",
   "mimetype": "text/x-python",
   "name": "python",
   "nbconvert_exporter": "python",
   "pygments_lexer": "ipython3",
   "version": "3.7.12"
  }
 },
 "nbformat": 4,
 "nbformat_minor": 5
}
